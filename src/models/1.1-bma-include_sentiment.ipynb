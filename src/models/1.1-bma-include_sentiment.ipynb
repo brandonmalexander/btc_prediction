{
 "cells": [
  {
   "cell_type": "code",
   "execution_count": 1,
   "metadata": {},
   "outputs": [],
   "source": [
    "%matplotlib inline\n",
    "\n",
    "import numpy as np\n",
    "import pandas as pd\n",
    "import matplotlib.pyplot as plt"
   ]
  },
  {
   "cell_type": "markdown",
   "metadata": {},
   "source": [
    "### Reading in & Formatting Price Data\n",
    "The .csv read from contains the price of [bitcoin](https://bitcoin.org/en/) from 2015-02-01 to 2018-04-21."
   ]
  },
  {
   "cell_type": "code",
   "execution_count": 2,
   "metadata": {},
   "outputs": [
    {
     "name": "stdout",
     "output_type": "stream",
     "text": [
      "0    226.3959\n",
      "1    237.5409\n",
      "Name: price, dtype: float64\n",
      "1174    8863.5025\n",
      "1175    8917.5963\n",
      "Name: price, dtype: float64\n"
     ]
    }
   ],
   "source": [
    "prices_raw = pd.read_csv('data/price_data_final.csv', infer_datetime_format=True)\n",
    "p = prices_raw['price']\n",
    "print(p.head(2))\n",
    "print(p.tail(2))"
   ]
  },
  {
   "cell_type": "markdown",
   "metadata": {},
   "source": [
    "### Reading in & Formatting Quantified Sentiment\n",
    "The .csv we read from here contains daily sentiment scores from 2015-02-01 to 2018-04-21 for the title of every post in the [Bitcoin subreddit](https://www.reddit.com/r/Bitcoin/), an online Bitcoin community.\n",
    "\n",
    "There seems to be *a lot* of noise in the form of 0's (neutral sentiment). **How can this effectively be handled?**\n",
    "\n",
    "For now, I will take the daily average."
   ]
  },
  {
   "cell_type": "code",
   "execution_count": 3,
   "metadata": {},
   "outputs": [
    {
     "name": "stdout",
     "output_type": "stream",
     "text": [
      "0    0.068356\n",
      "1    0.068356\n",
      "dtype: float64\n",
      "1174    0.0\n",
      "1175    0.0\n",
      "dtype: float64\n"
     ]
    }
   ],
   "source": [
    "sentiment_raw = pd.read_csv('data/reddit_sentiment_data_final.csv', infer_datetime_format=True)\n",
    "s = sentiment_raw.mean(axis=1)\n",
    "print(s.head(2))\n",
    "print(s.tail(2))"
   ]
  },
  {
   "cell_type": "code",
   "execution_count": 4,
   "metadata": {},
   "outputs": [
    {
     "name": "stdout",
     "output_type": "stream",
     "text": [
      "19572\n"
     ]
    }
   ],
   "source": [
    "count = 0\n",
    "for i in sentiment_raw.drop('Unnamed: 0', axis=1).values:\n",
    "    for v in i:\n",
    "        if v == 0:\n",
    "            count += 1\n",
    "print(count)"
   ]
  },
  {
   "cell_type": "markdown",
   "metadata": {},
   "source": [
    "### Final Data Formatting"
   ]
  },
  {
   "cell_type": "code",
   "execution_count": 5,
   "metadata": {},
   "outputs": [
    {
     "name": "stdout",
     "output_type": "stream",
     "text": [
      "      price\n",
      "0  226.3959\n",
      "1  237.5409\n",
      "2  226.9566\n",
      "          price\n",
      "1173  8273.7413\n",
      "1174  8863.5025\n",
      "1175  8917.5963\n"
     ]
    }
   ],
   "source": [
    "# create the \"today's price\" feature\n",
    "prices = prices_raw.set_index('Unnamed: 0')\n",
    "prices = prices.reset_index(drop=True)\n",
    "print(prices.head(3))\n",
    "print(prices.tail(3))"
   ]
  },
  {
   "cell_type": "code",
   "execution_count": 6,
   "metadata": {},
   "outputs": [
    {
     "name": "stdout",
     "output_type": "stream",
     "text": [
      "       price\n",
      "0 -8691.2004\n",
      "1    11.1450\n",
      "2   -10.5843\n",
      "         price\n",
      "1173  110.0513\n",
      "1174  589.7612\n",
      "1175   54.0938\n"
     ]
    }
   ],
   "source": [
    "# create \"today's price - yesterday's price\" feature\n",
    "diff = []\n",
    "for n in range(0,len(prices)):\n",
    "    diff.append(prices.iloc[n] - prices.iloc[n-1])\n",
    "diff = pd.DataFrame(diff)\n",
    "print(diff.head(3))\n",
    "print(diff.tail(3))"
   ]
  },
  {
   "cell_type": "code",
   "execution_count": 7,
   "metadata": {},
   "outputs": [
    {
     "name": "stdout",
     "output_type": "stream",
     "text": [
      "      price\n",
      "0  237.5409\n",
      "1  226.9566\n",
      "2  226.7291\n",
      "          price\n",
      "1172  8273.7413\n",
      "1173  8863.5025\n",
      "1174  8917.5963\n"
     ]
    }
   ],
   "source": [
    "# create \"tomorrow's price\" label (for regression)\n",
    "label = pd.DataFrame(prices.drop(0)).reset_index(drop=True)\n",
    "print(label.head(3))\n",
    "print(label.tail(3))"
   ]
  },
  {
   "cell_type": "code",
   "execution_count": 8,
   "metadata": {},
   "outputs": [
    {
     "name": "stdout",
     "output_type": "stream",
     "text": [
      "   0\n",
      "0  0\n",
      "1  1\n",
      "2  0\n",
      "      0\n",
      "1173  1\n",
      "1174  1\n",
      "1175  1\n"
     ]
    }
   ],
   "source": [
    "# create binary \"today minus yesterday up or down\" feature\n",
    "upOrDown = pd.DataFrame([1 if d > 0 else 0 for d in diff.values])\n",
    "print(upOrDown.head(3))\n",
    "print(upOrDown.tail(3))"
   ]
  },
  {
   "cell_type": "code",
   "execution_count": 9,
   "metadata": {},
   "outputs": [
    {
     "name": "stdout",
     "output_type": "stream",
     "text": [
      "   0\n",
      "0  1\n",
      "1  0\n",
      "2  0\n",
      "      0\n",
      "1172  1\n",
      "1173  1\n",
      "1174  1\n"
     ]
    }
   ],
   "source": [
    "# create \"tomorrow minus today up or down\" label for classification\n",
    "updownLabel = upOrDown.drop(0).reset_index(drop=True)\n",
    "print(updownLabel.head(3))\n",
    "print(updownLabel.tail(3))"
   ]
  },
  {
   "cell_type": "code",
   "execution_count": 10,
   "metadata": {},
   "outputs": [
    {
     "name": "stdout",
     "output_type": "stream",
     "text": [
      "   0\n",
      "0  1\n",
      "1  1\n",
      "2  1\n",
      "      0\n",
      "1173  1\n",
      "1174  0\n",
      "1175  0\n"
     ]
    }
   ],
   "source": [
    "# create + or - sentiment feature\n",
    "posnegSent = pd.DataFrame([1 if d > 0 else 0 for d in s.values])\n",
    "print(posnegSent.head(3))\n",
    "print(posnegSent.tail(3))"
   ]
  },
  {
   "cell_type": "code",
   "execution_count": 11,
   "metadata": {},
   "outputs": [],
   "source": [
    "# resizing\n",
    "prices = prices.drop(1175)\n",
    "diff = diff.drop(1175)\n",
    "upOrDown = upOrDown.drop(1175)\n",
    "s = s.drop(1175)\n",
    "posnegSent = posnegSent.drop(1175)"
   ]
  },
  {
   "cell_type": "code",
   "execution_count": 12,
   "metadata": {},
   "outputs": [
    {
     "data": {
      "text/html": [
       "<div>\n",
       "<style scoped>\n",
       "    .dataframe tbody tr th:only-of-type {\n",
       "        vertical-align: middle;\n",
       "    }\n",
       "\n",
       "    .dataframe tbody tr th {\n",
       "        vertical-align: top;\n",
       "    }\n",
       "\n",
       "    .dataframe thead th {\n",
       "        text-align: right;\n",
       "    }\n",
       "</style>\n",
       "<table border=\"1\" class=\"dataframe\">\n",
       "  <thead>\n",
       "    <tr style=\"text-align: right;\">\n",
       "      <th></th>\n",
       "      <th>price(t)</th>\n",
       "      <th>p(t) - p(t-1)</th>\n",
       "      <th>s(t)</th>\n",
       "      <th>sentPosNeg</th>\n",
       "      <th>p(t+1)</th>\n",
       "      <th>p(t) - p(t-1) &gt; 0</th>\n",
       "      <th>p(t+1) - p(t) &gt; 0</th>\n",
       "    </tr>\n",
       "  </thead>\n",
       "  <tbody>\n",
       "    <tr>\n",
       "      <th>1</th>\n",
       "      <td>237.5409</td>\n",
       "      <td>11.1450</td>\n",
       "      <td>0.068356</td>\n",
       "      <td>1</td>\n",
       "      <td>226.9566</td>\n",
       "      <td>1</td>\n",
       "      <td>0</td>\n",
       "    </tr>\n",
       "    <tr>\n",
       "      <th>2</th>\n",
       "      <td>226.9566</td>\n",
       "      <td>-10.5843</td>\n",
       "      <td>0.068356</td>\n",
       "      <td>1</td>\n",
       "      <td>226.7291</td>\n",
       "      <td>0</td>\n",
       "      <td>0</td>\n",
       "    </tr>\n",
       "    <tr>\n",
       "      <th>3</th>\n",
       "      <td>226.7291</td>\n",
       "      <td>-0.2275</td>\n",
       "      <td>0.028507</td>\n",
       "      <td>1</td>\n",
       "      <td>216.7714</td>\n",
       "      <td>0</td>\n",
       "      <td>0</td>\n",
       "    </tr>\n",
       "    <tr>\n",
       "      <th>4</th>\n",
       "      <td>216.7714</td>\n",
       "      <td>-9.9577</td>\n",
       "      <td>0.021100</td>\n",
       "      <td>1</td>\n",
       "      <td>222.4823</td>\n",
       "      <td>0</td>\n",
       "      <td>1</td>\n",
       "    </tr>\n",
       "    <tr>\n",
       "      <th>5</th>\n",
       "      <td>222.4823</td>\n",
       "      <td>5.7109</td>\n",
       "      <td>0.061841</td>\n",
       "      <td>1</td>\n",
       "      <td>227.3275</td>\n",
       "      <td>1</td>\n",
       "      <td>1</td>\n",
       "    </tr>\n",
       "    <tr>\n",
       "      <th>6</th>\n",
       "      <td>227.3275</td>\n",
       "      <td>4.8452</td>\n",
       "      <td>0.053797</td>\n",
       "      <td>1</td>\n",
       "      <td>222.8677</td>\n",
       "      <td>1</td>\n",
       "      <td>0</td>\n",
       "    </tr>\n",
       "    <tr>\n",
       "      <th>7</th>\n",
       "      <td>222.8677</td>\n",
       "      <td>-4.4598</td>\n",
       "      <td>0.090851</td>\n",
       "      <td>1</td>\n",
       "      <td>220.1743</td>\n",
       "      <td>0</td>\n",
       "      <td>0</td>\n",
       "    </tr>\n",
       "    <tr>\n",
       "      <th>8</th>\n",
       "      <td>220.1743</td>\n",
       "      <td>-2.6934</td>\n",
       "      <td>0.112266</td>\n",
       "      <td>1</td>\n",
       "      <td>220.0829</td>\n",
       "      <td>0</td>\n",
       "      <td>0</td>\n",
       "    </tr>\n",
       "    <tr>\n",
       "      <th>9</th>\n",
       "      <td>220.0829</td>\n",
       "      <td>-0.0914</td>\n",
       "      <td>0.112266</td>\n",
       "      <td>1</td>\n",
       "      <td>219.4922</td>\n",
       "      <td>0</td>\n",
       "      <td>0</td>\n",
       "    </tr>\n",
       "    <tr>\n",
       "      <th>10</th>\n",
       "      <td>219.4922</td>\n",
       "      <td>-0.5907</td>\n",
       "      <td>0.087424</td>\n",
       "      <td>1</td>\n",
       "      <td>221.8513</td>\n",
       "      <td>0</td>\n",
       "      <td>1</td>\n",
       "    </tr>\n",
       "  </tbody>\n",
       "</table>\n",
       "</div>"
      ],
      "text/plain": [
       "    price(t)  p(t) - p(t-1)      s(t)  sentPosNeg    p(t+1)  \\\n",
       "1   237.5409        11.1450  0.068356           1  226.9566   \n",
       "2   226.9566       -10.5843  0.068356           1  226.7291   \n",
       "3   226.7291        -0.2275  0.028507           1  216.7714   \n",
       "4   216.7714        -9.9577  0.021100           1  222.4823   \n",
       "5   222.4823         5.7109  0.061841           1  227.3275   \n",
       "6   227.3275         4.8452  0.053797           1  222.8677   \n",
       "7   222.8677        -4.4598  0.090851           1  220.1743   \n",
       "8   220.1743        -2.6934  0.112266           1  220.0829   \n",
       "9   220.0829        -0.0914  0.112266           1  219.4922   \n",
       "10  219.4922        -0.5907  0.087424           1  221.8513   \n",
       "\n",
       "    p(t) - p(t-1) > 0  p(t+1) - p(t) > 0  \n",
       "1                   1                  0  \n",
       "2                   0                  0  \n",
       "3                   0                  0  \n",
       "4                   0                  1  \n",
       "5                   1                  1  \n",
       "6                   1                  0  \n",
       "7                   0                  0  \n",
       "8                   0                  0  \n",
       "9                   0                  0  \n",
       "10                  0                  1  "
      ]
     },
     "execution_count": 12,
     "metadata": {},
     "output_type": "execute_result"
    }
   ],
   "source": [
    "# Bringing it all together\n",
    "datas = pd.concat([prices, diff, s, posnegSent, label, upOrDown, updownLabel], axis=1)\n",
    "datas.columns = ['price(t)', 'p(t) - p(t-1)','s(t)', 'sentPosNeg', 'p(t+1)',\n",
    "                 'p(t) - p(t-1) > 0', 'p(t+1) - p(t) > 0']\n",
    "datas = datas.drop(0)\n",
    "datas.head(10)"
   ]
  },
  {
   "cell_type": "markdown",
   "metadata": {},
   "source": [
    "### ...Let's try KNN\n",
    "#### This first section uses KNeighborsRegressor to predict price. "
   ]
  },
  {
   "cell_type": "code",
   "execution_count": 13,
   "metadata": {},
   "outputs": [],
   "source": [
    "from sklearn.neighbors import KNeighborsRegressor"
   ]
  },
  {
   "cell_type": "code",
   "execution_count": 14,
   "metadata": {},
   "outputs": [
    {
     "data": {
      "text/plain": [
       "KNeighborsRegressor(algorithm='auto', leaf_size=30, metric='minkowski',\n",
       "          metric_params=None, n_jobs=1, n_neighbors=2, p=2,\n",
       "          weights='uniform')"
      ]
     },
     "execution_count": 14,
     "metadata": {},
     "output_type": "execute_result"
    }
   ],
   "source": [
    "knnReg = KNeighborsRegressor(n_neighbors=2)\n",
    "X = datas[['price(t)', 's(t)']]\n",
    "Y = datas['p(t+1)']\n",
    "knnReg.fit(X, Y)"
   ]
  },
  {
   "cell_type": "code",
   "execution_count": 15,
   "metadata": {},
   "outputs": [],
   "source": [
    "x = list(range(1, 1175))\n",
    "y = []\n",
    "for n in x:\n",
    "    y.append(knnReg.predict(X[n-1:n]))"
   ]
  },
  {
   "cell_type": "code",
   "execution_count": 16,
   "metadata": {},
   "outputs": [
    {
     "data": {
      "text/plain": [
       "Text(0.5,1,'KNN Regressor Predicting BTC Price')"
      ]
     },
     "execution_count": 16,
     "metadata": {},
     "output_type": "execute_result"
    },
    {
     "data": {
      "image/png": "[encoded data removed]",
      "text/plain": [
       "<matplotlib.figure.Figure at 0x7fa1a0a409e8>"
      ]
     },
     "metadata": {},
     "output_type": "display_data"
    }
   ],
   "source": [
    "plt.plot(x,y)\n",
    "plt.xlabel('Days After 2-2-2015')\n",
    "plt.ylabel('Predicted Price (USD)')\n",
    "plt.title('KNN Regressor Predicting BTC Price')"
   ]
  },
  {
   "cell_type": "markdown",
   "metadata": {},
   "source": [
    "so thats knnRegressor... not tweaked, but it followed the path so we know the model does its purpose. \n",
    "\n",
    "knnClassifier comin' up next."
   ]
  },
  {
   "cell_type": "code",
   "execution_count": 17,
   "metadata": {},
   "outputs": [
    {
     "data": {
      "text/plain": [
       "Text(0.5,1,'Price of BTC, Feb 2015 - April 2018')"
      ]
     },
     "execution_count": 17,
     "metadata": {},
     "output_type": "execute_result"
    },
    {
     "data": {
      "image/png": "[encoded data removed]",
      "text/plain": [
       "<matplotlib.figure.Figure at 0x7fa19db2fcc0>"
      ]
     },
     "metadata": {},
     "output_type": "display_data"
    }
   ],
   "source": [
    "plt.plot(x,p.drop(0).drop(1174), color='orange')\n",
    "plt.xlabel('Days After 2-2-2015')\n",
    "plt.ylabel('Acual Price (USD)')\n",
    "plt.title('Price of BTC, Feb 2015 - April 2018')"
   ]
  },
  {
   "cell_type": "code",
   "execution_count": 18,
   "metadata": {},
   "outputs": [],
   "source": [
    "# Some evaluation?\n",
    "from sklearn.model_selection import cross_val_score"
   ]
  },
  {
   "cell_type": "code",
   "execution_count": 19,
   "metadata": {},
   "outputs": [
    {
     "data": {
      "text/plain": [
       "0.8645989646637181"
      ]
     },
     "execution_count": 19,
     "metadata": {},
     "output_type": "execute_result"
    }
   ],
   "source": [
    "np.mean(cross_val_score(knnReg, X[1000:1175], Y[1000:1175]))\n",
    "# restricting the training to recent data ^^^"
   ]
  },
  {
   "cell_type": "markdown",
   "metadata": {},
   "source": [
    "#### This second section uses KNeighborsClassifier to predict whether the price will go up or down."
   ]
  },
  {
   "cell_type": "code",
   "execution_count": 20,
   "metadata": {},
   "outputs": [],
   "source": [
    "from sklearn.neighbors import KNeighborsClassifier"
   ]
  },
  {
   "cell_type": "code",
   "execution_count": 21,
   "metadata": {},
   "outputs": [
    {
     "name": "stderr",
     "output_type": "stream",
     "text": [
      "/home/brandon/anaconda3/lib/python3.6/site-packages/ipykernel_launcher.py:4: DataConversionWarning: A column-vector y was passed when a 1d array was expected. Please change the shape of y to (n_samples, ), for example using ravel().\n",
      "  after removing the cwd from sys.path.\n"
     ]
    },
    {
     "data": {
      "text/plain": [
       "KNeighborsClassifier(algorithm='auto', leaf_size=30, metric='minkowski',\n",
       "           metric_params=None, n_jobs=1, n_neighbors=3, p=2,\n",
       "           weights='uniform')"
      ]
     },
     "execution_count": 21,
     "metadata": {},
     "output_type": "execute_result"
    }
   ],
   "source": [
    "X = datas[['sentPosNeg', 'p(t) - p(t-1) > 0']]\n",
    "Y = datas[['p(t+1) - p(t) > 0']]\n",
    "knnClass = KNeighborsClassifier(n_neighbors=3)\n",
    "knnClass.fit(X[1000:1175],Y[1000:1175])"
   ]
  },
  {
   "cell_type": "code",
   "execution_count": 22,
   "metadata": {},
   "outputs": [
    {
     "name": "stderr",
     "output_type": "stream",
     "text": [
      "/home/brandon/anaconda3/lib/python3.6/site-packages/sklearn/model_selection/_validation.py:458: DataConversionWarning: A column-vector y was passed when a 1d array was expected. Please change the shape of y to (n_samples, ), for example using ravel().\n",
      "  estimator.fit(X_train, y_train, **fit_params)\n",
      "/home/brandon/anaconda3/lib/python3.6/site-packages/sklearn/model_selection/_validation.py:458: DataConversionWarning: A column-vector y was passed when a 1d array was expected. Please change the shape of y to (n_samples, ), for example using ravel().\n",
      "  estimator.fit(X_train, y_train, **fit_params)\n",
      "/home/brandon/anaconda3/lib/python3.6/site-packages/sklearn/model_selection/_validation.py:458: DataConversionWarning: A column-vector y was passed when a 1d array was expected. Please change the shape of y to (n_samples, ), for example using ravel().\n",
      "  estimator.fit(X_train, y_train, **fit_params)\n"
     ]
    },
    {
     "data": {
      "text/plain": [
       "0.5566902840580898"
      ]
     },
     "execution_count": 22,
     "metadata": {},
     "output_type": "execute_result"
    }
   ],
   "source": [
    "np.mean(cross_val_score(knnClass, X[1000:1175], Y[1000:1175]))"
   ]
  },
  {
   "cell_type": "code",
   "execution_count": 33,
   "metadata": {},
   "outputs": [
    {
     "data": {
      "text/plain": [
       "<matplotlib.legend.Legend at 0x7fa19d432358>"
      ]
     },
     "execution_count": 33,
     "metadata": {},
     "output_type": "execute_result"
    },
    {
     "data": {
      "image/png": "[encoded data removed]",
      "text/plain": [
       "<matplotlib.figure.Figure at 0x7fa19d432278>"
      ]
     },
     "metadata": {},
     "output_type": "display_data"
    }
   ],
   "source": [
    "plt.plot(x,y,x,p.drop(0).drop(1174))\n",
    "plt.xlabel('Days After 2-2-2015')\n",
    "plt.ylabel('Price (USD)')\n",
    "plt.title('KNN Regressor Predicting BTC Price')\n",
    "plt.legend(('Predicted', 'Actual'))"
   ]
  },
  {
   "cell_type": "code",
   "execution_count": null,
   "metadata": {},
   "outputs": [],
   "source": []
  }
 ],
 "metadata": {
  "kernelspec": {
   "display_name": "Python 3",
   "language": "python",
   "name": "python3"
  },
  "language_info": {
   "codemirror_mode": {
    "name": "ipython",
    "version": 3
   },
   "file_extension": ".py",
   "mimetype": "text/x-python",
   "name": "python",
   "nbconvert_exporter": "python",
   "pygments_lexer": "ipython3",
   "version": "3.6.4"
  }
 },
 "nbformat": 4,
 "nbformat_minor": 2
}
